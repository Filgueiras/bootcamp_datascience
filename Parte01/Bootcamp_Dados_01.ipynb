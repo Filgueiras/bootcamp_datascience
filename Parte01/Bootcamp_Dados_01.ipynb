{
  "nbformat": 4,
  "nbformat_minor": 0,
  "metadata": {
    "colab": {
      "name": "Bootcamp - Dados 01.ipynb",
      "provenance": [],
      "collapsed_sections": []
    },
    "kernelspec": {
      "name": "python3",
      "display_name": "Python 3"
    }
  },
  "cells": [
    {
      "cell_type": "markdown",
      "metadata": {
        "id": "FhiQGUfVVZJJ"
      },
      "source": [
        "Meu arquivo de dados, baixado pelo Github, está em:\n",
        "G:\\developer\\GitHub\\agendamento-hospitalar\\dados\\A151346189_28_143_208.csv\n",
        "\n",
        "A página original é esta aqui: \n",
        "https://datasus.saude.gov.br/acesso-a-informacao/producao-hospitalar-sih-sus/\n",
        "\n",
        "A informação são os dados de internação do SUS, de 2008 em diante, por Unidade da Federação.\n",
        "\n",
        "Para abrir o arquivo vamos usar o pandas"
      ]
    },
    {
      "cell_type": "code",
      "metadata": {
        "id": "3ShKilOmVWe2"
      },
      "source": [
        "import pandas as pd"
      ],
      "execution_count": null,
      "outputs": []
    },
    {
      "cell_type": "markdown",
      "metadata": {
        "id": "9erjNZTYYgaF"
      },
      "source": [
        "Vou importar o arquivo de texto e fazer o upload para a VM do Colab e, para abrir o arquivo, faço referência ao arquivo local no Colab (clique no botão direito para ver o caminho).\n",
        "\n",
        "Erros:\n",
        "1) O padrão de formato do pandas é UTF8, mas o do governo do Brasil não é... Alterar o enconding.\n",
        "2) Problema ao tokenizar... erro de separador.\n",
        "3) Problema ao tokenizar... Primeiras linhas não são dados. Devemos pular.\n",
        "A partir disso não dá mais erro, só que as últimas linhas ficam com \"lixo\".\n",
        "4) Para tirar isso, usamos skipfooter (=12 para tirar as últimas 12 linhas) "
      ]
    },
    {
      "cell_type": "code",
      "metadata": {
        "id": "XDypyJvZYTyA",
        "outputId": "ae49c1ec-2e49-4e4f-aa2a-c6eaa6acd643",
        "colab": {
          "base_uri": "https://localhost:8080/"
        }
      },
      "source": [
        "dados = pd.read_csv(\"/content/A151346189_28_143_208.csv\", encoding=\"ISO-8859-1\", sep=\";\", skiprows=3, skipfooter=12)"
      ],
      "execution_count": 3,
      "outputs": [
        {
          "output_type": "stream",
          "text": [
            "/usr/local/lib/python3.6/dist-packages/ipykernel_launcher.py:1: ParserWarning: Falling back to the 'python' engine because the 'c' engine does not support skipfooter; you can avoid this warning by specifying engine='python'.\n",
            "  \"\"\"Entry point for launching an IPython kernel.\n"
          ],
          "name": "stderr"
        }
      ]
    },
    {
      "cell_type": "code",
      "metadata": {
        "id": "hJzIZIKTbeLQ",
        "outputId": "3189f100-c98d-4237-91fd-51ef50167eea",
        "colab": {
          "base_uri": "https://localhost:8080/",
          "height": 389
        }
      },
      "source": [
        "dados.head()\n",
        "dados.tail()\n",
        "\n"
      ],
      "execution_count": null,
      "outputs": [
        {
          "output_type": "execute_result",
          "data": {
            "text/html": [
              "<div>\n",
              "<style scoped>\n",
              "    .dataframe tbody tr th:only-of-type {\n",
              "        vertical-align: middle;\n",
              "    }\n",
              "\n",
              "    .dataframe tbody tr th {\n",
              "        vertical-align: top;\n",
              "    }\n",
              "\n",
              "    .dataframe thead th {\n",
              "        text-align: right;\n",
              "    }\n",
              "</style>\n",
              "<table border=\"1\" class=\"dataframe\">\n",
              "  <thead>\n",
              "    <tr style=\"text-align: right;\">\n",
              "      <th></th>\n",
              "      <th>Unidade da Federação</th>\n",
              "      <th>2008/Jan</th>\n",
              "      <th>2008/Fev</th>\n",
              "      <th>2008/Mar</th>\n",
              "      <th>2008/Abr</th>\n",
              "      <th>2008/Mai</th>\n",
              "      <th>2008/Jun</th>\n",
              "      <th>2008/Jul</th>\n",
              "      <th>2008/Ago</th>\n",
              "      <th>2008/Set</th>\n",
              "      <th>2008/Out</th>\n",
              "      <th>2008/Nov</th>\n",
              "      <th>2008/Dez</th>\n",
              "      <th>2009/Jan</th>\n",
              "      <th>2009/Fev</th>\n",
              "      <th>2009/Mar</th>\n",
              "      <th>2009/Abr</th>\n",
              "      <th>2009/Mai</th>\n",
              "      <th>2009/Jun</th>\n",
              "      <th>2009/Jul</th>\n",
              "      <th>2009/Ago</th>\n",
              "      <th>2009/Set</th>\n",
              "      <th>2009/Out</th>\n",
              "      <th>2009/Nov</th>\n",
              "      <th>2009/Dez</th>\n",
              "      <th>2010/Jan</th>\n",
              "      <th>2010/Fev</th>\n",
              "      <th>2010/Mar</th>\n",
              "      <th>2010/Abr</th>\n",
              "      <th>2010/Mai</th>\n",
              "      <th>2010/Jun</th>\n",
              "      <th>2010/Jul</th>\n",
              "      <th>2010/Ago</th>\n",
              "      <th>2010/Set</th>\n",
              "      <th>2010/Out</th>\n",
              "      <th>2010/Nov</th>\n",
              "      <th>2010/Dez</th>\n",
              "      <th>2011/Jan</th>\n",
              "      <th>2011/Fev</th>\n",
              "      <th>2011/Mar</th>\n",
              "      <th>...</th>\n",
              "      <th>2017/Jun</th>\n",
              "      <th>2017/Jul</th>\n",
              "      <th>2017/Ago</th>\n",
              "      <th>2017/Set</th>\n",
              "      <th>2017/Out</th>\n",
              "      <th>2017/Nov</th>\n",
              "      <th>2017/Dez</th>\n",
              "      <th>2018/Jan</th>\n",
              "      <th>2018/Fev</th>\n",
              "      <th>2018/Mar</th>\n",
              "      <th>2018/Abr</th>\n",
              "      <th>2018/Mai</th>\n",
              "      <th>2018/Jun</th>\n",
              "      <th>2018/Jul</th>\n",
              "      <th>2018/Ago</th>\n",
              "      <th>2018/Set</th>\n",
              "      <th>2018/Out</th>\n",
              "      <th>2018/Nov</th>\n",
              "      <th>2018/Dez</th>\n",
              "      <th>2019/Jan</th>\n",
              "      <th>2019/Fev</th>\n",
              "      <th>2019/Mar</th>\n",
              "      <th>2019/Abr</th>\n",
              "      <th>2019/Mai</th>\n",
              "      <th>2019/Jun</th>\n",
              "      <th>2019/Jul</th>\n",
              "      <th>2019/Ago</th>\n",
              "      <th>2019/Set</th>\n",
              "      <th>2019/Out</th>\n",
              "      <th>2019/Nov</th>\n",
              "      <th>2019/Dez</th>\n",
              "      <th>2020/Jan</th>\n",
              "      <th>2020/Fev</th>\n",
              "      <th>2020/Mar</th>\n",
              "      <th>2020/Abr</th>\n",
              "      <th>2020/Mai</th>\n",
              "      <th>2020/Jun</th>\n",
              "      <th>2020/Jul</th>\n",
              "      <th>2020/Ago</th>\n",
              "      <th>Total</th>\n",
              "    </tr>\n",
              "  </thead>\n",
              "  <tbody>\n",
              "    <tr>\n",
              "      <th>22</th>\n",
              "      <td>43 Rio Grande do Sul</td>\n",
              "      <td>30931325,46</td>\n",
              "      <td>57363420,01</td>\n",
              "      <td>51547794,07</td>\n",
              "      <td>56673338,49</td>\n",
              "      <td>48397733,07</td>\n",
              "      <td>52413429,62</td>\n",
              "      <td>56636376,98</td>\n",
              "      <td>56113054,70</td>\n",
              "      <td>55356224,30</td>\n",
              "      <td>53637713,13</td>\n",
              "      <td>53699506,08</td>\n",
              "      <td>58730379,58</td>\n",
              "      <td>57629317,06</td>\n",
              "      <td>58779088,02</td>\n",
              "      <td>63366430,89</td>\n",
              "      <td>62200230,97</td>\n",
              "      <td>61683824,68</td>\n",
              "      <td>62495363,90</td>\n",
              "      <td>64614271,83</td>\n",
              "      <td>66457445,34</td>\n",
              "      <td>66425009,36</td>\n",
              "      <td>65782428,73</td>\n",
              "      <td>63714541,87</td>\n",
              "      <td>64488493,88</td>\n",
              "      <td>66304168,50</td>\n",
              "      <td>61527419,52</td>\n",
              "      <td>62490522,38</td>\n",
              "      <td>66814413,40</td>\n",
              "      <td>67900518,35</td>\n",
              "      <td>64799726,75</td>\n",
              "      <td>68518232,07</td>\n",
              "      <td>68731297,03</td>\n",
              "      <td>66174969,16</td>\n",
              "      <td>66891309,48</td>\n",
              "      <td>67456434,73</td>\n",
              "      <td>67096302,52</td>\n",
              "      <td>60754144,32</td>\n",
              "      <td>58884339,85</td>\n",
              "      <td>66205364,40</td>\n",
              "      <td>...</td>\n",
              "      <td>89585823,81</td>\n",
              "      <td>96174533,70</td>\n",
              "      <td>92176170,61</td>\n",
              "      <td>94228360,83</td>\n",
              "      <td>90655015,78</td>\n",
              "      <td>91242720,70</td>\n",
              "      <td>82934746,93</td>\n",
              "      <td>88817066,36</td>\n",
              "      <td>80572288,45</td>\n",
              "      <td>87419899,25</td>\n",
              "      <td>89396935,52</td>\n",
              "      <td>88148251,61</td>\n",
              "      <td>90754504,49</td>\n",
              "      <td>89093690,14</td>\n",
              "      <td>94010888,97</td>\n",
              "      <td>93664724,68</td>\n",
              "      <td>90025945,36</td>\n",
              "      <td>93081292,31</td>\n",
              "      <td>89050712,34</td>\n",
              "      <td>89664703,23</td>\n",
              "      <td>89259306,50</td>\n",
              "      <td>85585754,75</td>\n",
              "      <td>95152786,47</td>\n",
              "      <td>94163838,23</td>\n",
              "      <td>92237333,46</td>\n",
              "      <td>102298314,76</td>\n",
              "      <td>100260145,30</td>\n",
              "      <td>95917106,56</td>\n",
              "      <td>102331615,05</td>\n",
              "      <td>93971904,79</td>\n",
              "      <td>90775418,13</td>\n",
              "      <td>94908336,74</td>\n",
              "      <td>91437940,91</td>\n",
              "      <td>102876132,83</td>\n",
              "      <td>83000318,02</td>\n",
              "      <td>82381774,95</td>\n",
              "      <td>86051002,13</td>\n",
              "      <td>100531035,83</td>\n",
              "      <td>101374341,51</td>\n",
              "      <td>11958647088,33</td>\n",
              "    </tr>\n",
              "    <tr>\n",
              "      <th>23</th>\n",
              "      <td>50 Mato Grosso do Sul</td>\n",
              "      <td>5377392,11</td>\n",
              "      <td>7002472,61</td>\n",
              "      <td>8423933,19</td>\n",
              "      <td>8797487,68</td>\n",
              "      <td>9770421,80</td>\n",
              "      <td>10905392,18</td>\n",
              "      <td>10249299,82</td>\n",
              "      <td>9671553,45</td>\n",
              "      <td>10218511,05</td>\n",
              "      <td>9547923,55</td>\n",
              "      <td>9450010,19</td>\n",
              "      <td>8365709,79</td>\n",
              "      <td>10033643,71</td>\n",
              "      <td>10746263,10</td>\n",
              "      <td>10849523,03</td>\n",
              "      <td>10902848,13</td>\n",
              "      <td>11991649,26</td>\n",
              "      <td>12050259,66</td>\n",
              "      <td>12174950,98</td>\n",
              "      <td>11178470,01</td>\n",
              "      <td>11997775,92</td>\n",
              "      <td>11686533,15</td>\n",
              "      <td>10756188,43</td>\n",
              "      <td>10565385,71</td>\n",
              "      <td>12148432,58</td>\n",
              "      <td>11270972,80</td>\n",
              "      <td>11947693,50</td>\n",
              "      <td>11435565,54</td>\n",
              "      <td>12392541,52</td>\n",
              "      <td>12441459,98</td>\n",
              "      <td>12025317,84</td>\n",
              "      <td>12353546,78</td>\n",
              "      <td>12381792,58</td>\n",
              "      <td>12340247,31</td>\n",
              "      <td>12467693,91</td>\n",
              "      <td>12356930,32</td>\n",
              "      <td>11209008,55</td>\n",
              "      <td>9656677,02</td>\n",
              "      <td>13698836,79</td>\n",
              "      <td>...</td>\n",
              "      <td>15676843,15</td>\n",
              "      <td>16956118,78</td>\n",
              "      <td>17043069,32</td>\n",
              "      <td>17477126,81</td>\n",
              "      <td>15488155,75</td>\n",
              "      <td>16596703,72</td>\n",
              "      <td>15353997,67</td>\n",
              "      <td>16320629,25</td>\n",
              "      <td>18448053,83</td>\n",
              "      <td>16620321,36</td>\n",
              "      <td>16682027,02</td>\n",
              "      <td>17555832,83</td>\n",
              "      <td>17357780,20</td>\n",
              "      <td>17090876,79</td>\n",
              "      <td>16468255,95</td>\n",
              "      <td>17395858,50</td>\n",
              "      <td>16259261,13</td>\n",
              "      <td>16390075,24</td>\n",
              "      <td>15350893,92</td>\n",
              "      <td>17108719,02</td>\n",
              "      <td>17713810,57</td>\n",
              "      <td>16882690,96</td>\n",
              "      <td>18253870,27</td>\n",
              "      <td>17778458,45</td>\n",
              "      <td>18387822,48</td>\n",
              "      <td>19870933,20</td>\n",
              "      <td>18913862,69</td>\n",
              "      <td>19591383,84</td>\n",
              "      <td>18935437,09</td>\n",
              "      <td>17230688,81</td>\n",
              "      <td>17895244,76</td>\n",
              "      <td>18115134,64</td>\n",
              "      <td>19542439,88</td>\n",
              "      <td>19032785,73</td>\n",
              "      <td>17410262,53</td>\n",
              "      <td>17913161,92</td>\n",
              "      <td>17331445,92</td>\n",
              "      <td>18755557,92</td>\n",
              "      <td>19241624,02</td>\n",
              "      <td>2172157981,36</td>\n",
              "    </tr>\n",
              "    <tr>\n",
              "      <th>24</th>\n",
              "      <td>51 Mato Grosso</td>\n",
              "      <td>4795299,01</td>\n",
              "      <td>8684882,23</td>\n",
              "      <td>7886243,14</td>\n",
              "      <td>8794109,79</td>\n",
              "      <td>9231645,40</td>\n",
              "      <td>10221763,77</td>\n",
              "      <td>9163314,28</td>\n",
              "      <td>9243148,81</td>\n",
              "      <td>9052354,89</td>\n",
              "      <td>9677093,95</td>\n",
              "      <td>7150345,50</td>\n",
              "      <td>10421826,32</td>\n",
              "      <td>9939399,66</td>\n",
              "      <td>9332546,32</td>\n",
              "      <td>11965500,15</td>\n",
              "      <td>11185014,96</td>\n",
              "      <td>12058150,55</td>\n",
              "      <td>11635436,04</td>\n",
              "      <td>11698836,48</td>\n",
              "      <td>11823239,61</td>\n",
              "      <td>10810420,65</td>\n",
              "      <td>12130636,06</td>\n",
              "      <td>11574096,75</td>\n",
              "      <td>10726251,53</td>\n",
              "      <td>12364760,67</td>\n",
              "      <td>11382133,07</td>\n",
              "      <td>11947040,32</td>\n",
              "      <td>12233217,84</td>\n",
              "      <td>12656421,09</td>\n",
              "      <td>11263407,74</td>\n",
              "      <td>12795267,96</td>\n",
              "      <td>12805173,87</td>\n",
              "      <td>12171713,91</td>\n",
              "      <td>11961452,83</td>\n",
              "      <td>11777799,00</td>\n",
              "      <td>11142684,27</td>\n",
              "      <td>11709080,86</td>\n",
              "      <td>11149107,81</td>\n",
              "      <td>12381255,67</td>\n",
              "      <td>...</td>\n",
              "      <td>15509614,84</td>\n",
              "      <td>16372281,19</td>\n",
              "      <td>16231682,70</td>\n",
              "      <td>16044219,39</td>\n",
              "      <td>16146542,89</td>\n",
              "      <td>15487676,02</td>\n",
              "      <td>14770731,99</td>\n",
              "      <td>17253950,09</td>\n",
              "      <td>14789801,16</td>\n",
              "      <td>17498946,87</td>\n",
              "      <td>16279852,74</td>\n",
              "      <td>16103988,77</td>\n",
              "      <td>15883977,51</td>\n",
              "      <td>17163673,03</td>\n",
              "      <td>15569285,17</td>\n",
              "      <td>15630276,46</td>\n",
              "      <td>15838064,68</td>\n",
              "      <td>14815961,13</td>\n",
              "      <td>13853034,99</td>\n",
              "      <td>14229113,36</td>\n",
              "      <td>15288698,79</td>\n",
              "      <td>16045499,92</td>\n",
              "      <td>15890208,95</td>\n",
              "      <td>16092716,67</td>\n",
              "      <td>16699780,69</td>\n",
              "      <td>16314811,22</td>\n",
              "      <td>16763581,32</td>\n",
              "      <td>15608982,84</td>\n",
              "      <td>15855641,23</td>\n",
              "      <td>15811477,04</td>\n",
              "      <td>15029205,51</td>\n",
              "      <td>15249241,20</td>\n",
              "      <td>15046851,63</td>\n",
              "      <td>14886817,29</td>\n",
              "      <td>12546999,04</td>\n",
              "      <td>13604225,34</td>\n",
              "      <td>13151005,63</td>\n",
              "      <td>16371639,49</td>\n",
              "      <td>17790649,87</td>\n",
              "      <td>2036923784,59</td>\n",
              "    </tr>\n",
              "    <tr>\n",
              "      <th>25</th>\n",
              "      <td>52 Goiás</td>\n",
              "      <td>15310637,29</td>\n",
              "      <td>22258668,68</td>\n",
              "      <td>21442515,75</td>\n",
              "      <td>20921212,45</td>\n",
              "      <td>21615970,67</td>\n",
              "      <td>18270043,87</td>\n",
              "      <td>20540517,13</td>\n",
              "      <td>20650730,67</td>\n",
              "      <td>20868443,56</td>\n",
              "      <td>20621423,04</td>\n",
              "      <td>17094580,10</td>\n",
              "      <td>21615561,61</td>\n",
              "      <td>20678552,05</td>\n",
              "      <td>23043942,78</td>\n",
              "      <td>23334312,45</td>\n",
              "      <td>23508108,16</td>\n",
              "      <td>23947606,91</td>\n",
              "      <td>24369848,15</td>\n",
              "      <td>24577126,64</td>\n",
              "      <td>24372626,65</td>\n",
              "      <td>25227845,74</td>\n",
              "      <td>24746686,90</td>\n",
              "      <td>24628958,50</td>\n",
              "      <td>25524615,37</td>\n",
              "      <td>23352380,22</td>\n",
              "      <td>23520045,07</td>\n",
              "      <td>25369725,89</td>\n",
              "      <td>24404417,42</td>\n",
              "      <td>24987745,86</td>\n",
              "      <td>24954391,09</td>\n",
              "      <td>25711601,13</td>\n",
              "      <td>27198788,35</td>\n",
              "      <td>26672124,45</td>\n",
              "      <td>24964871,71</td>\n",
              "      <td>25671135,81</td>\n",
              "      <td>25260713,05</td>\n",
              "      <td>25171493,79</td>\n",
              "      <td>26401745,02</td>\n",
              "      <td>29060487,72</td>\n",
              "      <td>...</td>\n",
              "      <td>35061574,61</td>\n",
              "      <td>34374096,65</td>\n",
              "      <td>35314254,06</td>\n",
              "      <td>35452231,80</td>\n",
              "      <td>34270824,00</td>\n",
              "      <td>34456384,52</td>\n",
              "      <td>34331316,98</td>\n",
              "      <td>32756500,63</td>\n",
              "      <td>29752825,71</td>\n",
              "      <td>35353238,97</td>\n",
              "      <td>33126994,54</td>\n",
              "      <td>33321916,56</td>\n",
              "      <td>35536937,30</td>\n",
              "      <td>35009953,87</td>\n",
              "      <td>33899286,36</td>\n",
              "      <td>33936535,21</td>\n",
              "      <td>34482719,13</td>\n",
              "      <td>33695646,06</td>\n",
              "      <td>36347762,27</td>\n",
              "      <td>35162665,51</td>\n",
              "      <td>33658226,73</td>\n",
              "      <td>36733253,84</td>\n",
              "      <td>36260374,54</td>\n",
              "      <td>38159986,89</td>\n",
              "      <td>37236918,46</td>\n",
              "      <td>37769227,09</td>\n",
              "      <td>37979735,24</td>\n",
              "      <td>37470451,41</td>\n",
              "      <td>37308356,33</td>\n",
              "      <td>35709559,20</td>\n",
              "      <td>34873099,14</td>\n",
              "      <td>35775375,69</td>\n",
              "      <td>35005746,36</td>\n",
              "      <td>34793993,14</td>\n",
              "      <td>30896577,34</td>\n",
              "      <td>34305180,56</td>\n",
              "      <td>35701473,15</td>\n",
              "      <td>39405050,36</td>\n",
              "      <td>43984702,05</td>\n",
              "      <td>4657350310,70</td>\n",
              "    </tr>\n",
              "    <tr>\n",
              "      <th>26</th>\n",
              "      <td>53 Distrito Federal</td>\n",
              "      <td>4745919,19</td>\n",
              "      <td>7632480,67</td>\n",
              "      <td>9647203,26</td>\n",
              "      <td>11098732,99</td>\n",
              "      <td>12891719,72</td>\n",
              "      <td>12850125,67</td>\n",
              "      <td>12565646,74</td>\n",
              "      <td>13710857,89</td>\n",
              "      <td>13165106,20</td>\n",
              "      <td>15048607,23</td>\n",
              "      <td>11343166,62</td>\n",
              "      <td>14727561,06</td>\n",
              "      <td>12448821,12</td>\n",
              "      <td>10378991,59</td>\n",
              "      <td>13844384,56</td>\n",
              "      <td>13014468,49</td>\n",
              "      <td>15199322,19</td>\n",
              "      <td>15839446,00</td>\n",
              "      <td>14075642,84</td>\n",
              "      <td>15070287,19</td>\n",
              "      <td>14487053,32</td>\n",
              "      <td>14794759,93</td>\n",
              "      <td>13970147,70</td>\n",
              "      <td>12231919,68</td>\n",
              "      <td>14152357,41</td>\n",
              "      <td>12797956,47</td>\n",
              "      <td>14766108,89</td>\n",
              "      <td>14251503,37</td>\n",
              "      <td>13992321,87</td>\n",
              "      <td>13029712,13</td>\n",
              "      <td>13731431,47</td>\n",
              "      <td>14492891,90</td>\n",
              "      <td>13708967,72</td>\n",
              "      <td>13154297,48</td>\n",
              "      <td>14017191,90</td>\n",
              "      <td>13892860,69</td>\n",
              "      <td>13685193,15</td>\n",
              "      <td>12596227,92</td>\n",
              "      <td>13776613,55</td>\n",
              "      <td>...</td>\n",
              "      <td>14832061,10</td>\n",
              "      <td>15143253,69</td>\n",
              "      <td>16830062,39</td>\n",
              "      <td>18437945,84</td>\n",
              "      <td>18041562,15</td>\n",
              "      <td>18203173,03</td>\n",
              "      <td>17028868,46</td>\n",
              "      <td>17127571,95</td>\n",
              "      <td>18222787,66</td>\n",
              "      <td>20340897,78</td>\n",
              "      <td>20522181,19</td>\n",
              "      <td>20343407,23</td>\n",
              "      <td>21542121,59</td>\n",
              "      <td>22301468,16</td>\n",
              "      <td>23318726,05</td>\n",
              "      <td>20307075,79</td>\n",
              "      <td>18600258,14</td>\n",
              "      <td>16518323,98</td>\n",
              "      <td>13970506,60</td>\n",
              "      <td>20192152,35</td>\n",
              "      <td>18496333,16</td>\n",
              "      <td>22191795,70</td>\n",
              "      <td>18562231,92</td>\n",
              "      <td>20360779,48</td>\n",
              "      <td>20187082,38</td>\n",
              "      <td>22216154,63</td>\n",
              "      <td>23309181,24</td>\n",
              "      <td>17870194,68</td>\n",
              "      <td>17859596,85</td>\n",
              "      <td>19851940,18</td>\n",
              "      <td>18769437,77</td>\n",
              "      <td>22341629,09</td>\n",
              "      <td>20643441,06</td>\n",
              "      <td>22947163,99</td>\n",
              "      <td>21536505,16</td>\n",
              "      <td>19058243,91</td>\n",
              "      <td>22704335,27</td>\n",
              "      <td>25269773,34</td>\n",
              "      <td>26526196,39</td>\n",
              "      <td>2429933198,76</td>\n",
              "    </tr>\n",
              "  </tbody>\n",
              "</table>\n",
              "<p>5 rows × 154 columns</p>\n",
              "</div>"
            ],
            "text/plain": [
              "     Unidade da Federação     2008/Jan  ...      2020/Ago           Total\n",
              "22   43 Rio Grande do Sul  30931325,46  ...  101374341,51  11958647088,33\n",
              "23  50 Mato Grosso do Sul   5377392,11  ...   19241624,02   2172157981,36\n",
              "24         51 Mato Grosso   4795299,01  ...   17790649,87   2036923784,59\n",
              "25               52 Goiás  15310637,29  ...   43984702,05   4657350310,70\n",
              "26    53 Distrito Federal   4745919,19  ...   26526196,39   2429933198,76\n",
              "\n",
              "[5 rows x 154 columns]"
            ]
          },
          "metadata": {
            "tags": []
          },
          "execution_count": 20
        }
      ]
    },
    {
      "cell_type": "code",
      "metadata": {
        "id": "Rh7UWq8QdvXz",
        "outputId": "b06fa069-e0ea-4f4b-c145-1277f3905526",
        "colab": {
          "base_uri": "https://localhost:8080/"
        }
      },
      "source": [
        "dados.mean()"
      ],
      "execution_count": 4,
      "outputs": [
        {
          "output_type": "execute_result",
          "data": {
            "text/plain": [
              "Series([], dtype: float64)"
            ]
          },
          "metadata": {
            "tags": []
          },
          "execution_count": 4
        }
      ]
    },
    {
      "cell_type": "markdown",
      "metadata": {
        "id": "yOPbDFHbd1l8"
      },
      "source": [
        "Ainda não consigo tratar os números importados como números ... \n",
        "1) Preciso tratar o valor do texto importado para ser considerado número (decimais e separadores de milhar devem ser definidos).\n",
        "2) Vai dar certo, mas os números ficarão em notação científica.\n",
        "2.1) Tenho que usar as opções do Pandas para modificar isso.\n"
      ]
    },
    {
      "cell_type": "code",
      "metadata": {
        "id": "TqeU4tzceAcQ",
        "outputId": "955a63fa-e319-4650-e93b-a4665bef9880",
        "colab": {
          "base_uri": "https://localhost:8080/"
        }
      },
      "source": [
        "dados = pd.read_csv(\"/content/A151346189_28_143_208.csv\", encoding=\"ISO-8859-1\", \n",
        "                    sep=\";\", skiprows=3, skipfooter=12,\n",
        "                    thousands=\".\", decimal=\",\")"
      ],
      "execution_count": null,
      "outputs": [
        {
          "output_type": "stream",
          "text": [
            "/usr/local/lib/python3.6/dist-packages/ipykernel_launcher.py:3: ParserWarning: Falling back to the 'python' engine because the 'c' engine does not support skipfooter; you can avoid this warning by specifying engine='python'.\n",
            "  This is separate from the ipykernel package so we can avoid doing imports until\n"
          ],
          "name": "stderr"
        }
      ]
    },
    {
      "cell_type": "code",
      "metadata": {
        "id": "VqXFhNtPe_qr"
      },
      "source": [
        "dados.mean()"
      ],
      "execution_count": null,
      "outputs": []
    },
    {
      "cell_type": "markdown",
      "metadata": {
        "id": "vkqnCuDufFLG"
      },
      "source": [
        "Aqui dá para ver como é mostrada a informação de número antes e depois da formatação da saída..."
      ]
    },
    {
      "cell_type": "code",
      "metadata": {
        "id": "6lGVflJ4euxa"
      },
      "source": [
        "pd.options.display.float_format = \"{:.2f}\".format"
      ],
      "execution_count": null,
      "outputs": []
    },
    {
      "cell_type": "code",
      "metadata": {
        "id": "R_vK3qEoeT3b",
        "outputId": "f039b08a-586b-4bfb-c19c-08a9f9f3b3dd",
        "colab": {
          "base_uri": "https://localhost:8080/"
        }
      },
      "source": [
        "dados.mean()"
      ],
      "execution_count": null,
      "outputs": [
        {
          "output_type": "execute_result",
          "data": {
            "text/plain": [
              "2008/Jan     15126846.64\n",
              "2008/Fev     22710158.12\n",
              "2008/Mar     24594187.35\n",
              "2008/Abr     25431957.83\n",
              "2008/Mai     26511245.91\n",
              "                ...     \n",
              "2020/Abr     41013660.39\n",
              "2020/Mai     44193633.75\n",
              "2020/Jun     47329994.46\n",
              "2020/Jul     54495511.57\n",
              "Total      5993731798.30\n",
              "Length: 151, dtype: float64"
            ]
          },
          "metadata": {
            "tags": []
          },
          "execution_count": 25
        }
      ]
    },
    {
      "cell_type": "markdown",
      "metadata": {
        "id": "iTna7PrFfhhm"
      },
      "source": [
        "Agora quero, por exemplo, fazer um \"where\", ou seja, filtrar os dados para trazer informação de um determinado mês."
      ]
    },
    {
      "cell_type": "code",
      "metadata": {
        "id": "55vfwTq1fpVa",
        "outputId": "900ec1c1-5763-4229-d8f7-65ea1f2a2508",
        "colab": {
          "base_uri": "https://localhost:8080/"
        }
      },
      "source": [
        "dados['2008/Ago'].mean()"
      ],
      "execution_count": null,
      "outputs": [
        {
          "output_type": "execute_result",
          "data": {
            "text/plain": [
              "27800320.306666665"
            ]
          },
          "metadata": {
            "tags": []
          },
          "execution_count": 30
        }
      ]
    },
    {
      "cell_type": "markdown",
      "metadata": {
        "id": "civZstl9gm_X"
      },
      "source": [
        "Mostrar um gráfico simples do mês para cada UF"
      ]
    },
    {
      "cell_type": "code",
      "metadata": {
        "id": "IeMiXvkigmf1",
        "outputId": "c352fea8-0a53-43c0-85e6-c0335a15c946",
        "colab": {
          "base_uri": "https://localhost:8080/",
          "height": 524
        }
      },
      "source": [
        "dados.plot(x=\"Unidade da Federação\", y=\"2008/Ago\", kind=\"bar\",figsize=(9,6))\n"
      ],
      "execution_count": null,
      "outputs": [
        {
          "output_type": "execute_result",
          "data": {
            "text/plain": [
              "<matplotlib.axes._subplots.AxesSubplot at 0x7f2bd9194908>"
            ]
          },
          "metadata": {
            "tags": []
          },
          "execution_count": 35
        },
        {
          "output_type": "display_data",
          "data": {
            "image/png": "[encoded data removed]",
            "text/plain": [
              "<Figure size 648x432 with 1 Axes>"
            ]
          },
          "metadata": {
            "tags": [],
            "needs_background": "light"
          }
        }
      ]
    },
    {
      "cell_type": "code",
      "metadata": {
        "id": "RgMR_Fehguxm"
      },
      "source": [
        ""
      ],
      "execution_count": null,
      "outputs": []
    }
  ]
}