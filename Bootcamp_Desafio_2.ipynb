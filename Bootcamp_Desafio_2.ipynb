{
  "nbformat": 4,
  "nbformat_minor": 0,
  "metadata": {
    "colab": {
      "name": "Bootcamp Desafio 2.ipynb",
      "provenance": [],
      "collapsed_sections": [],
      "authorship_tag": "ABX9TyOy7daW6qxmJ9iGRViAuyAw",
      "include_colab_link": true
    },
    "kernelspec": {
      "name": "python3",
      "display_name": "Python 3"
    }
  },
  "cells": [
    {
      "cell_type": "markdown",
      "metadata": {
        "id": "view-in-github",
        "colab_type": "text"
      },
      "source": [
        "<a href=\"https://colab.research.google.com/github/Filgueiras/bootcamp_datascience/blob/main/Bootcamp_Desafio_2.ipynb\" target=\"_parent\"><img src=\"https://colab.research.google.com/assets/colab-badge.svg\" alt=\"Open In Colab\"/></a>"
      ]
    },
    {
      "cell_type": "markdown",
      "metadata": {
        "id": "km9kArt3gPJM"
      },
      "source": [
        "# **Projeto Módulo 02 - Alura - Data Science Aplicada**"
      ]
    },
    {
      "cell_type": "markdown",
      "metadata": {
        "id": "zLov_irt7F4H"
      },
      "source": [
        "###Autor"
      ]
    },
    {
      "cell_type": "markdown",
      "metadata": {
        "id": "zs4ks66E7UyW"
      },
      "source": [
        "* **Marco Antonio Filgueiras Guimarães**\n",
        "* Github: https://github.com/Filgueiras\n",
        "* E-mail: marco.filgueiras@gmail.com / marco.filgueiras@hotmail.com\n",
        "* LinkedIn: https://www.linkedin.com/in/marcofilgueiras/"
      ]
    },
    {
      "cell_type": "markdown",
      "metadata": {
        "id": "8hCLse357Sx9"
      },
      "source": [
        "### Sobre os dados (e a coleta)"
      ]
    },
    {
      "cell_type": "markdown",
      "metadata": {
        "id": "ch-Moot2gWaO"
      },
      "source": [
        "Os dados do SUS vieram do [Data SUS - Imunização](http://tabnet.datasus.gov.br/cgi/tabcgi.exe?pni/cnv/cpniuf.def), conforme orientado no Discord.\n",
        "\n"
      ]
    },
    {
      "cell_type": "markdown",
      "metadata": {
        "id": "UM9o8-_qj7bN"
      },
      "source": [
        "Depois de explorar um pouco os resultados, vi que em total de doses ou em % de imunização, os dados de ano não fazem parte da tabela e que as vacinas mudaram ao longo dos anos.\n",
        "Assim, resolvi fazer o seguinte:\n",
        "1. Ver dados em números de doses.\n",
        "2. Tem um arquivo para cada ano, desde 1994 até 2019 (ele sempre trazia números absolutos, não quebrando por ano, então tive que separar). Isso porque o sistema não nos mostra UF e ano no mesmo resultado (repetindo dados por ano ou algo assim). Ou faz uma coisa, ou outra...\n",
        "> Ano a ano, ele coloca na primeira linha antes dos dados a informação de ano como \"Período: AAAA\" (ano com 4 dígitos).\n",
        "3. Baixar os arquivos com linhas nas UFs e colunas nas vacinas (\"imunos\")\n",
        "> Isso deixou o número de linhas do arquivo fixas (sempre igual a UFs) e as colunas variáveis (vacinas/imunos).\n",
        "* Pq UF nas linhas: a importação inicial fica facilitada (por causa daquele monte de comentários que vem no final do arquivo, o skip no footer torna-se fixo). Eu não sei quantas vacinas/imunos há por ano, mas UF faz tempo que não muda (última UF é Tocantins, criada em 1988 a partir do norte de Goiás).\n",
        "* Depois faço um MELT, lá no meio...\n",
        "> [Tocantins na Wikipedia](https://en.wikipedia.org/wiki/Tocantins)"
      ]
    },
    {
      "cell_type": "markdown",
      "metadata": {
        "id": "n_GIq7qFy4Ex"
      },
      "source": [
        "### **Meus objetivos**"
      ]
    },
    {
      "cell_type": "markdown",
      "metadata": {
        "id": "1kpsfUeKzJfx"
      },
      "source": [
        ">1. Verificar quais vacinas eram dadas ao longo dos anos.\n",
        ">2. Verificar a desigualdade de distribuição das vacinas (se um estado recebe e outro não, no mesmo período).\n",
        ">3. Verificar se alguma vacina deixou de ser dada e depois voltou ao calendário. Caso haja tempo, vou verificar os motivos."
      ]
    },
    {
      "cell_type": "markdown",
      "metadata": {
        "id": "OqsaWvZXztZ_"
      },
      "source": [
        "###Formulário de envio"
      ]
    },
    {
      "cell_type": "markdown",
      "metadata": {
        "id": "WlJijVOjj1aa"
      },
      "source": [
        "> Enviar para Alura em: https://forms.gle/HNR6yen2xB5ttv7D6"
      ]
    },
    {
      "cell_type": "markdown",
      "metadata": {
        "id": "9fp5XDLf8Gpe"
      },
      "source": [
        "### **Início da Análise / Show me the Code**"
      ]
    },
    {
      "cell_type": "markdown",
      "metadata": {
        "id": "en2jri1Kz8AR"
      },
      "source": [
        ">Importar todos os dados de vacina incluídos na minha pasta de projeto no Github (repara no skipfooter=19, para ignorar os comentários no final e a linha totalizadora, que me fez chegar a 20 no skip)."
      ]
    },
    {
      "cell_type": "code",
      "metadata": {
        "id": "5kZssCfldNwZ"
      },
      "source": [
        "import pandas as pd\n",
        "\n",
        "#lista de arquivos a importar\n",
        "lista_arquivos = [\"A202931189_28_143_208-p2019.csv\",\"A203022189_28_143_208-p2018.csv\",\"A203103189_28_143_208-p2017.csv\",\"A203140189_28_143_208-p2016.csv\",\n",
        "                 \"A203214189_28_143_208-p2015.csv\",\"A204149189_28_143_208-p2014.csv\",\"A204349189_28_143_208-p2013.csv\",\"A204440189_28_143_208-p2012.csv\",\n",
        "                 \"A204553189_28_143_208-p2011.csv\",\"A204031189_28_143_208-p2010.csv\",\"A204658189_28_143_208-p2009.csv\",\"A205022189_28_143_208-p2008.csv\",\n",
        "                 \"A205129189_28_143_208-p2007.csv\",\"A205245189_28_143_208-p2006.csv\",\"A203934189_28_143_208-p2005.csv\",\"A205332189_28_143_208-p2004.csv\",\n",
        "                 \"A205409189_28_143_208-p2003.csv\",\"A205537189_28_143_208-p2002.csv\",\"A205613189_28_143_208-p2001.csv\",\"A203838189_28_143_208-p2000.csv\",\n",
        "                 \"A205700189_28_143_208-p1999.csv\",\"A205745189_28_143_208-p1998.csv\",\"A205820189_28_143_208-p1997.csv\",\"A205849189_28_143_208-p1996.csv\",\n",
        "                 \"A203730189_28_143_208-p1995.csv\", \"A203620189_28_143_208-p1994.csv\"]\n"
      ],
      "execution_count": null,
      "outputs": []
    },
    {
      "cell_type": "code",
      "metadata": {
        "id": "Jx9UfQjS-xmd"
      },
      "source": [
        "def importa_arquivos_imuno_sus(caminho, nome, ano):\n",
        "    dadosTemp = pd.read_csv(f\"{caminho}{nome}\",\n",
        "                      encoding=\"ISO-8859-1\",sep=\";\", skiprows=3, skipfooter=20, thousands=\".\",decimal=\",\", engine=\"python\")\n",
        "    dadosTemp[\"Ano\"] = ano\n",
        "    dadosTemp[\"UF\"] = dadosTemp[\"Unidade da Federação\"].str[2:]\n",
        "    dadosTemp[\"UF\"] = dadosTemp[\"UF\"].str.strip()\n",
        "    dadosTemp = dadosTemp.drop(\"Total\", axis=1)\n",
        "    dadosTemp = dadosTemp.drop(\"Unidade da Federação\", axis=1)\n",
        "    dadosTemp.set_index(\"UF\",\"Ano\")\n",
        "    return dadosTemp"
      ],
      "execution_count": null,
      "outputs": []
    },
    {
      "cell_type": "markdown",
      "metadata": {
        "id": "vOCpyjYVETgB"
      },
      "source": [
        "Importando todos os arquivos (poderia virar uma função, não virou, mas está pronto para isso)"
      ]
    },
    {
      "cell_type": "code",
      "metadata": {
        "colab": {
          "base_uri": "https://localhost:8080/"
        },
        "id": "36hFMFXbqvW4",
        "outputId": "a0a8dfb2-fef6-4ee2-ac01-c44af6de2c82"
      },
      "source": [
        "ordem = \"d\"\n",
        "contador = 0\n",
        "ano_atual = 2019\n",
        "\n",
        "for nome in lista_arquivos:\n",
        "  if (ano_atual - contador) == 2015:\n",
        "    print(\"Pulando 2015 pro problemas no arquivo - formato errado\")\n",
        "  else:\n",
        "    dataSetA = importa_arquivos_imuno_sus(\"https://raw.githubusercontent.com/Filgueiras/bootcamp_datascience/main/Desafio02/\", lista_arquivos[contador], (ano_atual - contador))\n",
        "    print(f\"Importado com sucesso em {ano_atual - contador}\")\n",
        "    if contador == 0:\n",
        "      dataSetSUS = dataSetA\n",
        "    else:\n",
        "      dataSetSUS = pd.concat([dataSetSUS,dataSetA])\n",
        "  contador = contador + 1"
      ],
      "execution_count": null,
      "outputs": [
        {
          "output_type": "stream",
          "text": [
            "Importado com sucesso em 2019\n",
            "Importado com sucesso em 2018\n",
            "Importado com sucesso em 2017\n",
            "Importado com sucesso em 2016\n",
            "Pulando 2015 pro problemas no arquivo - formato errado\n",
            "Importado com sucesso em 2014\n",
            "Importado com sucesso em 2013\n",
            "Importado com sucesso em 2012\n",
            "Importado com sucesso em 2011\n",
            "Importado com sucesso em 2010\n",
            "Importado com sucesso em 2009\n",
            "Importado com sucesso em 2008\n",
            "Importado com sucesso em 2007\n",
            "Importado com sucesso em 2006\n",
            "Importado com sucesso em 2005\n",
            "Importado com sucesso em 2004\n",
            "Importado com sucesso em 2003\n",
            "Importado com sucesso em 2002\n",
            "Importado com sucesso em 2001\n",
            "Importado com sucesso em 2000\n",
            "Importado com sucesso em 1999\n",
            "Importado com sucesso em 1998\n",
            "Importado com sucesso em 1997\n",
            "Importado com sucesso em 1996\n",
            "Importado com sucesso em 1995\n",
            "Importado com sucesso em 1994\n"
          ],
          "name": "stdout"
        }
      ]
    },
    {
      "cell_type": "markdown",
      "metadata": {
        "id": "3GmhhfQhF5cU"
      },
      "source": [
        "Conferência rápida: 26 tabelas (anos) com 27 linhas cada, deveria dar um dataset com 26*27 registros (resultado abaixo)"
      ]
    },
    {
      "cell_type": "code",
      "metadata": {
        "colab": {
          "base_uri": "https://localhost:8080/",
          "height": 33
        },
        "id": "vu3vviNHEsn2",
        "outputId": "bd7b7468-4247-4b72-a100-b9c4b1aed350"
      },
      "source": [
        "display(len(lista_arquivos)*27)"
      ],
      "execution_count": null,
      "outputs": [
        {
          "output_type": "display_data",
          "data": {
            "text/plain": [
              "702"
            ]
          },
          "metadata": {
            "tags": []
          }
        }
      ]
    },
    {
      "cell_type": "markdown",
      "metadata": {
        "id": "p9wGWiInGHB9"
      },
      "source": [
        "Vamos ver quantas linhas tem o dataset unificado... (torcendo para ter 702)"
      ]
    },
    {
      "cell_type": "code",
      "metadata": {
        "colab": {
          "base_uri": "https://localhost:8080/"
        },
        "id": "NrGB9uGrmdCB",
        "outputId": "524e2421-a570-490c-fb4e-74422c4aab2a"
      },
      "source": [
        "dataSetSUS.info()"
      ],
      "execution_count": null,
      "outputs": [
        {
          "output_type": "stream",
          "text": [
            "<class 'pandas.core.frame.DataFrame'>\n",
            "Int64Index: 659 entries, 0 to 14\n",
            "Data columns (total 27 columns):\n",
            " #   Column                                         Non-Null Count  Dtype  \n",
            "---  ------                                         --------------  -----  \n",
            " 0   072 BCG                                        659 non-null    int64  \n",
            " 1   099 Hepatite B  em crianças até 30 dias        135 non-null    float64\n",
            " 2   061 Rotavírus Humano                           351 non-null    float64\n",
            " 3   053 Meningococo C                              243 non-null    float64\n",
            " 4   073 Hepatite B                                 659 non-null    object \n",
            " 5   080 Penta                                      189 non-null    float64\n",
            " 6   012 Pneumocócica                               243 non-null    float64\n",
            " 7   074 Poliomielite                               659 non-null    object \n",
            " 8   100 Poliomielite 4 anos                        81 non-null     object \n",
            " 9   006 Febre Amarela                              659 non-null    object \n",
            " 10  096 Hepatite A                                 135 non-null    float64\n",
            " 11  091 Pneumocócica(1º ref)                       162 non-null    float64\n",
            " 12  092 Meningococo C (1º ref)                     162 non-null    float64\n",
            " 13  093 Poliomielite(1º ref)                       162 non-null    float64\n",
            " 14  021 Tríplice Viral  D1                         540 non-null    object \n",
            " 15  098 Tríplice Viral  D2                         162 non-null    float64\n",
            " 16  097 Tetra Viral(SRC+VZ)                        162 non-null    float64\n",
            " 17  075 DTP                                        659 non-null    object \n",
            " 18  102 DTP REF (4 e 6 anos)                       162 non-null    float64\n",
            " 19  103 Dupla Adulto (dt)                          81 non-null     float64\n",
            " 20  095 Tríplice Bacteriana(DTP)(1º ref)           162 non-null    float64\n",
            " 21  094 Dupla adulto e tríplice acelular gestante  162 non-null    float64\n",
            " 22  003 dTpa gestante                              162 non-null    float64\n",
            " 23  Ano                                            659 non-null    int64  \n",
            " 24  UF                                             659 non-null    object \n",
            " 25  018 Sarampo                                    254 non-null    object \n",
            " 26  009 Haemophilus influenzae b                   239 non-null    object \n",
            "dtypes: float64(16), int64(2), object(9)\n",
            "memory usage: 144.2+ KB\n"
          ],
          "name": "stdout"
        }
      ]
    },
    {
      "cell_type": "markdown",
      "metadata": {
        "id": "bOhyFFiAGNs4"
      },
      "source": [
        "**Uma conferência mínima dos números exigiria verificar se há 27 linhas por ano...**\n",
        "> Aqui é uma mapa geral... podemos ver as vacinas na linha do tempo e verificar a quantidade de UFs onde foram aplicadas. Qualquer número menor que 27 significa que não foi aplicada no Brasi todo."
      ]
    },
    {
      "cell_type": "code",
      "metadata": {
        "colab": {
          "base_uri": "https://localhost:8080/",
          "height": 896
        },
        "id": "Yd5GSRD-FGjZ",
        "outputId": "014aab15-e5ab-45cc-85e8-94c0086b5585"
      },
      "source": [
        "#quais colunas sempre True\n",
        "dataSetSUS.groupby(\"Ano\").count()"
      ],
      "execution_count": null,
      "outputs": [
        {
          "output_type": "execute_result",
          "data": {
            "text/html": [
              "<div>\n",
              "<style scoped>\n",
              "    .dataframe tbody tr th:only-of-type {\n",
              "        vertical-align: middle;\n",
              "    }\n",
              "\n",
              "    .dataframe tbody tr th {\n",
              "        vertical-align: top;\n",
              "    }\n",
              "\n",
              "    .dataframe thead th {\n",
              "        text-align: right;\n",
              "    }\n",
              "</style>\n",
              "<table border=\"1\" class=\"dataframe\">\n",
              "  <thead>\n",
              "    <tr style=\"text-align: right;\">\n",
              "      <th></th>\n",
              "      <th>072 BCG</th>\n",
              "      <th>099 Hepatite B  em crianças até 30 dias</th>\n",
              "      <th>061 Rotavírus Humano</th>\n",
              "      <th>053 Meningococo C</th>\n",
              "      <th>073 Hepatite B</th>\n",
              "      <th>080 Penta</th>\n",
              "      <th>012 Pneumocócica</th>\n",
              "      <th>074 Poliomielite</th>\n",
              "      <th>100 Poliomielite 4 anos</th>\n",
              "      <th>006 Febre Amarela</th>\n",
              "      <th>096 Hepatite A</th>\n",
              "      <th>091 Pneumocócica(1º ref)</th>\n",
              "      <th>092 Meningococo C (1º ref)</th>\n",
              "      <th>093 Poliomielite(1º ref)</th>\n",
              "      <th>021 Tríplice Viral  D1</th>\n",
              "      <th>098 Tríplice Viral  D2</th>\n",
              "      <th>097 Tetra Viral(SRC+VZ)</th>\n",
              "      <th>075 DTP</th>\n",
              "      <th>102 DTP REF (4 e 6 anos)</th>\n",
              "      <th>103 Dupla Adulto (dt)</th>\n",
              "      <th>095 Tríplice Bacteriana(DTP)(1º ref)</th>\n",
              "      <th>094 Dupla adulto e tríplice acelular gestante</th>\n",
              "      <th>003 dTpa gestante</th>\n",
              "      <th>UF</th>\n",
              "      <th>018 Sarampo</th>\n",
              "      <th>009 Haemophilus influenzae b</th>\n",
              "    </tr>\n",
              "    <tr>\n",
              "      <th>Ano</th>\n",
              "      <th></th>\n",
              "      <th></th>\n",
              "      <th></th>\n",
              "      <th></th>\n",
              "      <th></th>\n",
              "      <th></th>\n",
              "      <th></th>\n",
              "      <th></th>\n",
              "      <th></th>\n",
              "      <th></th>\n",
              "      <th></th>\n",
              "      <th></th>\n",
              "      <th></th>\n",
              "      <th></th>\n",
              "      <th></th>\n",
              "      <th></th>\n",
              "      <th></th>\n",
              "      <th></th>\n",
              "      <th></th>\n",
              "      <th></th>\n",
              "      <th></th>\n",
              "      <th></th>\n",
              "      <th></th>\n",
              "      <th></th>\n",
              "      <th></th>\n",
              "      <th></th>\n",
              "    </tr>\n",
              "  </thead>\n",
              "  <tbody>\n",
              "    <tr>\n",
              "      <th>1994</th>\n",
              "      <td>15</td>\n",
              "      <td>0</td>\n",
              "      <td>0</td>\n",
              "      <td>0</td>\n",
              "      <td>15</td>\n",
              "      <td>0</td>\n",
              "      <td>0</td>\n",
              "      <td>15</td>\n",
              "      <td>0</td>\n",
              "      <td>15</td>\n",
              "      <td>0</td>\n",
              "      <td>0</td>\n",
              "      <td>0</td>\n",
              "      <td>0</td>\n",
              "      <td>0</td>\n",
              "      <td>0</td>\n",
              "      <td>0</td>\n",
              "      <td>15</td>\n",
              "      <td>0</td>\n",
              "      <td>0</td>\n",
              "      <td>0</td>\n",
              "      <td>0</td>\n",
              "      <td>0</td>\n",
              "      <td>15</td>\n",
              "      <td>15</td>\n",
              "      <td>0</td>\n",
              "    </tr>\n",
              "    <tr>\n",
              "      <th>1995</th>\n",
              "      <td>24</td>\n",
              "      <td>0</td>\n",
              "      <td>0</td>\n",
              "      <td>0</td>\n",
              "      <td>24</td>\n",
              "      <td>0</td>\n",
              "      <td>0</td>\n",
              "      <td>24</td>\n",
              "      <td>0</td>\n",
              "      <td>24</td>\n",
              "      <td>0</td>\n",
              "      <td>0</td>\n",
              "      <td>0</td>\n",
              "      <td>0</td>\n",
              "      <td>0</td>\n",
              "      <td>0</td>\n",
              "      <td>0</td>\n",
              "      <td>24</td>\n",
              "      <td>0</td>\n",
              "      <td>0</td>\n",
              "      <td>0</td>\n",
              "      <td>0</td>\n",
              "      <td>0</td>\n",
              "      <td>24</td>\n",
              "      <td>24</td>\n",
              "      <td>24</td>\n",
              "    </tr>\n",
              "    <tr>\n",
              "      <th>1996</th>\n",
              "      <td>26</td>\n",
              "      <td>0</td>\n",
              "      <td>0</td>\n",
              "      <td>0</td>\n",
              "      <td>26</td>\n",
              "      <td>0</td>\n",
              "      <td>0</td>\n",
              "      <td>26</td>\n",
              "      <td>0</td>\n",
              "      <td>26</td>\n",
              "      <td>0</td>\n",
              "      <td>0</td>\n",
              "      <td>0</td>\n",
              "      <td>0</td>\n",
              "      <td>0</td>\n",
              "      <td>0</td>\n",
              "      <td>0</td>\n",
              "      <td>26</td>\n",
              "      <td>0</td>\n",
              "      <td>0</td>\n",
              "      <td>0</td>\n",
              "      <td>0</td>\n",
              "      <td>0</td>\n",
              "      <td>26</td>\n",
              "      <td>26</td>\n",
              "      <td>26</td>\n",
              "    </tr>\n",
              "    <tr>\n",
              "      <th>1997</th>\n",
              "      <td>27</td>\n",
              "      <td>0</td>\n",
              "      <td>0</td>\n",
              "      <td>0</td>\n",
              "      <td>27</td>\n",
              "      <td>0</td>\n",
              "      <td>0</td>\n",
              "      <td>27</td>\n",
              "      <td>0</td>\n",
              "      <td>27</td>\n",
              "      <td>0</td>\n",
              "      <td>0</td>\n",
              "      <td>0</td>\n",
              "      <td>0</td>\n",
              "      <td>0</td>\n",
              "      <td>0</td>\n",
              "      <td>0</td>\n",
              "      <td>27</td>\n",
              "      <td>0</td>\n",
              "      <td>0</td>\n",
              "      <td>0</td>\n",
              "      <td>0</td>\n",
              "      <td>0</td>\n",
              "      <td>27</td>\n",
              "      <td>27</td>\n",
              "      <td>27</td>\n",
              "    </tr>\n",
              "    <tr>\n",
              "      <th>1998</th>\n",
              "      <td>27</td>\n",
              "      <td>0</td>\n",
              "      <td>0</td>\n",
              "      <td>0</td>\n",
              "      <td>27</td>\n",
              "      <td>0</td>\n",
              "      <td>0</td>\n",
              "      <td>27</td>\n",
              "      <td>0</td>\n",
              "      <td>27</td>\n",
              "      <td>0</td>\n",
              "      <td>0</td>\n",
              "      <td>0</td>\n",
              "      <td>0</td>\n",
              "      <td>0</td>\n",
              "      <td>0</td>\n",
              "      <td>0</td>\n",
              "      <td>27</td>\n",
              "      <td>0</td>\n",
              "      <td>0</td>\n",
              "      <td>0</td>\n",
              "      <td>0</td>\n",
              "      <td>0</td>\n",
              "      <td>27</td>\n",
              "      <td>27</td>\n",
              "      <td>27</td>\n",
              "    </tr>\n",
              "    <tr>\n",
              "      <th>1999</th>\n",
              "      <td>27</td>\n",
              "      <td>0</td>\n",
              "      <td>0</td>\n",
              "      <td>0</td>\n",
              "      <td>27</td>\n",
              "      <td>0</td>\n",
              "      <td>0</td>\n",
              "      <td>27</td>\n",
              "      <td>0</td>\n",
              "      <td>27</td>\n",
              "      <td>0</td>\n",
              "      <td>0</td>\n",
              "      <td>0</td>\n",
              "      <td>0</td>\n",
              "      <td>27</td>\n",
              "      <td>0</td>\n",
              "      <td>0</td>\n",
              "      <td>27</td>\n",
              "      <td>0</td>\n",
              "      <td>0</td>\n",
              "      <td>0</td>\n",
              "      <td>0</td>\n",
              "      <td>0</td>\n",
              "      <td>27</td>\n",
              "      <td>27</td>\n",
              "      <td>27</td>\n",
              "    </tr>\n",
              "    <tr>\n",
              "      <th>2000</th>\n",
              "      <td>27</td>\n",
              "      <td>0</td>\n",
              "      <td>0</td>\n",
              "      <td>0</td>\n",
              "      <td>27</td>\n",
              "      <td>0</td>\n",
              "      <td>0</td>\n",
              "      <td>27</td>\n",
              "      <td>0</td>\n",
              "      <td>27</td>\n",
              "      <td>0</td>\n",
              "      <td>0</td>\n",
              "      <td>0</td>\n",
              "      <td>0</td>\n",
              "      <td>27</td>\n",
              "      <td>0</td>\n",
              "      <td>0</td>\n",
              "      <td>27</td>\n",
              "      <td>0</td>\n",
              "      <td>0</td>\n",
              "      <td>0</td>\n",
              "      <td>0</td>\n",
              "      <td>0</td>\n",
              "      <td>27</td>\n",
              "      <td>27</td>\n",
              "      <td>27</td>\n",
              "    </tr>\n",
              "    <tr>\n",
              "      <th>2001</th>\n",
              "      <td>27</td>\n",
              "      <td>0</td>\n",
              "      <td>0</td>\n",
              "      <td>0</td>\n",
              "      <td>27</td>\n",
              "      <td>0</td>\n",
              "      <td>0</td>\n",
              "      <td>27</td>\n",
              "      <td>0</td>\n",
              "      <td>27</td>\n",
              "      <td>0</td>\n",
              "      <td>0</td>\n",
              "      <td>0</td>\n",
              "      <td>0</td>\n",
              "      <td>27</td>\n",
              "      <td>0</td>\n",
              "      <td>0</td>\n",
              "      <td>27</td>\n",
              "      <td>0</td>\n",
              "      <td>0</td>\n",
              "      <td>0</td>\n",
              "      <td>0</td>\n",
              "      <td>0</td>\n",
              "      <td>27</td>\n",
              "      <td>27</td>\n",
              "      <td>27</td>\n",
              "    </tr>\n",
              "    <tr>\n",
              "      <th>2002</th>\n",
              "      <td>27</td>\n",
              "      <td>0</td>\n",
              "      <td>0</td>\n",
              "      <td>0</td>\n",
              "      <td>27</td>\n",
              "      <td>0</td>\n",
              "      <td>0</td>\n",
              "      <td>27</td>\n",
              "      <td>0</td>\n",
              "      <td>27</td>\n",
              "      <td>0</td>\n",
              "      <td>0</td>\n",
              "      <td>0</td>\n",
              "      <td>0</td>\n",
              "      <td>27</td>\n",
              "      <td>0</td>\n",
              "      <td>0</td>\n",
              "      <td>27</td>\n",
              "      <td>0</td>\n",
              "      <td>0</td>\n",
              "      <td>0</td>\n",
              "      <td>0</td>\n",
              "      <td>0</td>\n",
              "      <td>27</td>\n",
              "      <td>27</td>\n",
              "      <td>27</td>\n",
              "    </tr>\n",
              "    <tr>\n",
              "      <th>2003</th>\n",
              "      <td>27</td>\n",
              "      <td>0</td>\n",
              "      <td>0</td>\n",
              "      <td>0</td>\n",
              "      <td>27</td>\n",
              "      <td>0</td>\n",
              "      <td>0</td>\n",
              "      <td>27</td>\n",
              "      <td>0</td>\n",
              "      <td>27</td>\n",
              "      <td>0</td>\n",
              "      <td>0</td>\n",
              "      <td>0</td>\n",
              "      <td>0</td>\n",
              "      <td>27</td>\n",
              "      <td>0</td>\n",
              "      <td>0</td>\n",
              "      <td>27</td>\n",
              "      <td>0</td>\n",
              "      <td>0</td>\n",
              "      <td>0</td>\n",
              "      <td>0</td>\n",
              "      <td>0</td>\n",
              "      <td>27</td>\n",
              "      <td>27</td>\n",
              "      <td>27</td>\n",
              "    </tr>\n",
              "    <tr>\n",
              "      <th>2004</th>\n",
              "      <td>27</td>\n",
              "      <td>0</td>\n",
              "      <td>0</td>\n",
              "      <td>0</td>\n",
              "      <td>27</td>\n",
              "      <td>0</td>\n",
              "      <td>0</td>\n",
              "      <td>27</td>\n",
              "      <td>0</td>\n",
              "      <td>27</td>\n",
              "      <td>0</td>\n",
              "      <td>0</td>\n",
              "      <td>0</td>\n",
              "      <td>0</td>\n",
              "      <td>27</td>\n",
              "      <td>0</td>\n",
              "      <td>0</td>\n",
              "      <td>27</td>\n",
              "      <td>0</td>\n",
              "      <td>0</td>\n",
              "      <td>0</td>\n",
              "      <td>0</td>\n",
              "      <td>0</td>\n",
              "      <td>27</td>\n",
              "      <td>0</td>\n",
              "      <td>0</td>\n",
              "    </tr>\n",
              "    <tr>\n",
              "      <th>2005</th>\n",
              "      <td>27</td>\n",
              "      <td>0</td>\n",
              "      <td>0</td>\n",
              "      <td>0</td>\n",
              "      <td>27</td>\n",
              "      <td>0</td>\n",
              "      <td>0</td>\n",
              "      <td>27</td>\n",
              "      <td>0</td>\n",
              "      <td>27</td>\n",
              "      <td>0</td>\n",
              "      <td>0</td>\n",
              "      <td>0</td>\n",
              "      <td>0</td>\n",
              "      <td>27</td>\n",
              "      <td>0</td>\n",
              "      <td>0</td>\n",
              "      <td>27</td>\n",
              "      <td>0</td>\n",
              "      <td>0</td>\n",
              "      <td>0</td>\n",
              "      <td>0</td>\n",
              "      <td>0</td>\n",
              "      <td>27</td>\n",
              "      <td>0</td>\n",
              "      <td>0</td>\n",
              "    </tr>\n",
              "    <tr>\n",
              "      <th>2006</th>\n",
              "      <td>27</td>\n",
              "      <td>0</td>\n",
              "      <td>27</td>\n",
              "      <td>0</td>\n",
              "      <td>27</td>\n",
              "      <td>0</td>\n",
              "      <td>0</td>\n",
              "      <td>27</td>\n",
              "      <td>0</td>\n",
              "      <td>27</td>\n",
              "      <td>0</td>\n",
              "      <td>0</td>\n",
              "      <td>0</td>\n",
              "      <td>0</td>\n",
              "      <td>27</td>\n",
              "      <td>0</td>\n",
              "      <td>0</td>\n",
              "      <td>27</td>\n",
              "      <td>0</td>\n",
              "      <td>0</td>\n",
              "      <td>0</td>\n",
              "      <td>0</td>\n",
              "      <td>0</td>\n",
              "      <td>27</td>\n",
              "      <td>0</td>\n",
              "      <td>0</td>\n",
              "    </tr>\n",
              "    <tr>\n",
              "      <th>2007</th>\n",
              "      <td>27</td>\n",
              "      <td>0</td>\n",
              "      <td>27</td>\n",
              "      <td>0</td>\n",
              "      <td>27</td>\n",
              "      <td>0</td>\n",
              "      <td>0</td>\n",
              "      <td>27</td>\n",
              "      <td>0</td>\n",
              "      <td>27</td>\n",
              "      <td>0</td>\n",
              "      <td>0</td>\n",
              "      <td>0</td>\n",
              "      <td>0</td>\n",
              "      <td>27</td>\n",
              "      <td>0</td>\n",
              "      <td>0</td>\n",
              "      <td>27</td>\n",
              "      <td>0</td>\n",
              "      <td>0</td>\n",
              "      <td>0</td>\n",
              "      <td>0</td>\n",
              "      <td>0</td>\n",
              "      <td>27</td>\n",
              "      <td>0</td>\n",
              "      <td>0</td>\n",
              "    </tr>\n",
              "    <tr>\n",
              "      <th>2008</th>\n",
              "      <td>27</td>\n",
              "      <td>0</td>\n",
              "      <td>27</td>\n",
              "      <td>0</td>\n",
              "      <td>27</td>\n",
              "      <td>0</td>\n",
              "      <td>0</td>\n",
              "      <td>27</td>\n",
              "      <td>0</td>\n",
              "      <td>27</td>\n",
              "      <td>0</td>\n",
              "      <td>0</td>\n",
              "      <td>0</td>\n",
              "      <td>0</td>\n",
              "      <td>27</td>\n",
              "      <td>0</td>\n",
              "      <td>0</td>\n",
              "      <td>27</td>\n",
              "      <td>0</td>\n",
              "      <td>0</td>\n",
              "      <td>0</td>\n",
              "      <td>0</td>\n",
              "      <td>0</td>\n",
              "      <td>27</td>\n",
              "      <td>0</td>\n",
              "      <td>0</td>\n",
              "    </tr>\n",
              "    <tr>\n",
              "      <th>2009</th>\n",
              "      <td>27</td>\n",
              "      <td>0</td>\n",
              "      <td>27</td>\n",
              "      <td>0</td>\n",
              "      <td>27</td>\n",
              "      <td>0</td>\n",
              "      <td>0</td>\n",
              "      <td>27</td>\n",
              "      <td>0</td>\n",
              "      <td>27</td>\n",
              "      <td>0</td>\n",
              "      <td>0</td>\n",
              "      <td>0</td>\n",
              "      <td>0</td>\n",
              "      <td>27</td>\n",
              "      <td>0</td>\n",
              "      <td>0</td>\n",
              "      <td>27</td>\n",
              "      <td>0</td>\n",
              "      <td>0</td>\n",
              "      <td>0</td>\n",
              "      <td>0</td>\n",
              "      <td>0</td>\n",
              "      <td>27</td>\n",
              "      <td>0</td>\n",
              "      <td>0</td>\n",
              "    </tr>\n",
              "    <tr>\n",
              "      <th>2010</th>\n",
              "      <td>27</td>\n",
              "      <td>0</td>\n",
              "      <td>27</td>\n",
              "      <td>27</td>\n",
              "      <td>27</td>\n",
              "      <td>0</td>\n",
              "      <td>27</td>\n",
              "      <td>27</td>\n",
              "      <td>0</td>\n",
              "      <td>27</td>\n",
              "      <td>0</td>\n",
              "      <td>0</td>\n",
              "      <td>0</td>\n",
              "      <td>0</td>\n",
              "      <td>27</td>\n",
              "      <td>0</td>\n",
              "      <td>0</td>\n",
              "      <td>27</td>\n",
              "      <td>0</td>\n",
              "      <td>0</td>\n",
              "      <td>0</td>\n",
              "      <td>0</td>\n",
              "      <td>0</td>\n",
              "      <td>27</td>\n",
              "      <td>0</td>\n",
              "      <td>0</td>\n",
              "    </tr>\n",
              "    <tr>\n",
              "      <th>2011</th>\n",
              "      <td>27</td>\n",
              "      <td>0</td>\n",
              "      <td>27</td>\n",
              "      <td>27</td>\n",
              "      <td>27</td>\n",
              "      <td>0</td>\n",
              "      <td>27</td>\n",
              "      <td>27</td>\n",
              "      <td>0</td>\n",
              "      <td>27</td>\n",
              "      <td>0</td>\n",
              "      <td>0</td>\n",
              "      <td>0</td>\n",
              "      <td>0</td>\n",
              "      <td>27</td>\n",
              "      <td>0</td>\n",
              "      <td>0</td>\n",
              "      <td>27</td>\n",
              "      <td>0</td>\n",
              "      <td>0</td>\n",
              "      <td>0</td>\n",
              "      <td>0</td>\n",
              "      <td>0</td>\n",
              "      <td>27</td>\n",
              "      <td>0</td>\n",
              "      <td>0</td>\n",
              "    </tr>\n",
              "    <tr>\n",
              "      <th>2012</th>\n",
              "      <td>27</td>\n",
              "      <td>0</td>\n",
              "      <td>27</td>\n",
              "      <td>27</td>\n",
              "      <td>27</td>\n",
              "      <td>27</td>\n",
              "      <td>27</td>\n",
              "      <td>27</td>\n",
              "      <td>0</td>\n",
              "      <td>27</td>\n",
              "      <td>0</td>\n",
              "      <td>0</td>\n",
              "      <td>0</td>\n",
              "      <td>0</td>\n",
              "      <td>27</td>\n",
              "      <td>0</td>\n",
              "      <td>0</td>\n",
              "      <td>27</td>\n",
              "      <td>0</td>\n",
              "      <td>0</td>\n",
              "      <td>0</td>\n",
              "      <td>0</td>\n",
              "      <td>0</td>\n",
              "      <td>27</td>\n",
              "      <td>0</td>\n",
              "      <td>0</td>\n",
              "    </tr>\n",
              "    <tr>\n",
              "      <th>2013</th>\n",
              "      <td>27</td>\n",
              "      <td>0</td>\n",
              "      <td>27</td>\n",
              "      <td>27</td>\n",
              "      <td>27</td>\n",
              "      <td>27</td>\n",
              "      <td>27</td>\n",
              "      <td>27</td>\n",
              "      <td>0</td>\n",
              "      <td>27</td>\n",
              "      <td>0</td>\n",
              "      <td>27</td>\n",
              "      <td>27</td>\n",
              "      <td>27</td>\n",
              "      <td>27</td>\n",
              "      <td>27</td>\n",
              "      <td>27</td>\n",
              "      <td>27</td>\n",
              "      <td>27</td>\n",
              "      <td>0</td>\n",
              "      <td>27</td>\n",
              "      <td>27</td>\n",
              "      <td>27</td>\n",
              "      <td>27</td>\n",
              "      <td>0</td>\n",
              "      <td>0</td>\n",
              "    </tr>\n",
              "    <tr>\n",
              "      <th>2014</th>\n",
              "      <td>27</td>\n",
              "      <td>27</td>\n",
              "      <td>27</td>\n",
              "      <td>27</td>\n",
              "      <td>27</td>\n",
              "      <td>27</td>\n",
              "      <td>27</td>\n",
              "      <td>27</td>\n",
              "      <td>0</td>\n",
              "      <td>27</td>\n",
              "      <td>27</td>\n",
              "      <td>27</td>\n",
              "      <td>27</td>\n",
              "      <td>27</td>\n",
              "      <td>27</td>\n",
              "      <td>27</td>\n",
              "      <td>27</td>\n",
              "      <td>27</td>\n",
              "      <td>27</td>\n",
              "      <td>0</td>\n",
              "      <td>27</td>\n",
              "      <td>27</td>\n",
              "      <td>27</td>\n",
              "      <td>27</td>\n",
              "      <td>0</td>\n",
              "      <td>0</td>\n",
              "    </tr>\n",
              "    <tr>\n",
              "      <th>2016</th>\n",
              "      <td>27</td>\n",
              "      <td>27</td>\n",
              "      <td>27</td>\n",
              "      <td>27</td>\n",
              "      <td>27</td>\n",
              "      <td>27</td>\n",
              "      <td>27</td>\n",
              "      <td>27</td>\n",
              "      <td>0</td>\n",
              "      <td>27</td>\n",
              "      <td>27</td>\n",
              "      <td>27</td>\n",
              "      <td>27</td>\n",
              "      <td>27</td>\n",
              "      <td>27</td>\n",
              "      <td>27</td>\n",
              "      <td>27</td>\n",
              "      <td>27</td>\n",
              "      <td>27</td>\n",
              "      <td>0</td>\n",
              "      <td>27</td>\n",
              "      <td>27</td>\n",
              "      <td>27</td>\n",
              "      <td>27</td>\n",
              "      <td>0</td>\n",
              "      <td>0</td>\n",
              "    </tr>\n",
              "    <tr>\n",
              "      <th>2017</th>\n",
              "      <td>27</td>\n",
              "      <td>27</td>\n",
              "      <td>27</td>\n",
              "      <td>27</td>\n",
              "      <td>27</td>\n",
              "      <td>27</td>\n",
              "      <td>27</td>\n",
              "      <td>27</td>\n",
              "      <td>27</td>\n",
              "      <td>27</td>\n",
              "      <td>27</td>\n",
              "      <td>27</td>\n",
              "      <td>27</td>\n",
              "      <td>27</td>\n",
              "      <td>27</td>\n",
              "      <td>27</td>\n",
              "      <td>27</td>\n",
              "      <td>27</td>\n",
              "      <td>27</td>\n",
              "      <td>27</td>\n",
              "      <td>27</td>\n",
              "      <td>27</td>\n",
              "      <td>27</td>\n",
              "      <td>27</td>\n",
              "      <td>0</td>\n",
              "      <td>0</td>\n",
              "    </tr>\n",
              "    <tr>\n",
              "      <th>2018</th>\n",
              "      <td>27</td>\n",
              "      <td>27</td>\n",
              "      <td>27</td>\n",
              "      <td>27</td>\n",
              "      <td>27</td>\n",
              "      <td>27</td>\n",
              "      <td>27</td>\n",
              "      <td>27</td>\n",
              "      <td>27</td>\n",
              "      <td>27</td>\n",
              "      <td>27</td>\n",
              "      <td>27</td>\n",
              "      <td>27</td>\n",
              "      <td>27</td>\n",
              "      <td>27</td>\n",
              "      <td>27</td>\n",
              "      <td>27</td>\n",
              "      <td>27</td>\n",
              "      <td>27</td>\n",
              "      <td>27</td>\n",
              "      <td>27</td>\n",
              "      <td>27</td>\n",
              "      <td>27</td>\n",
              "      <td>27</td>\n",
              "      <td>0</td>\n",
              "      <td>0</td>\n",
              "    </tr>\n",
              "    <tr>\n",
              "      <th>2019</th>\n",
              "      <td>27</td>\n",
              "      <td>27</td>\n",
              "      <td>27</td>\n",
              "      <td>27</td>\n",
              "      <td>27</td>\n",
              "      <td>27</td>\n",
              "      <td>27</td>\n",
              "      <td>27</td>\n",
              "      <td>27</td>\n",
              "      <td>27</td>\n",
              "      <td>27</td>\n",
              "      <td>27</td>\n",
              "      <td>27</td>\n",
              "      <td>27</td>\n",
              "      <td>27</td>\n",
              "      <td>27</td>\n",
              "      <td>27</td>\n",
              "      <td>27</td>\n",
              "      <td>27</td>\n",
              "      <td>27</td>\n",
              "      <td>27</td>\n",
              "      <td>27</td>\n",
              "      <td>27</td>\n",
              "      <td>27</td>\n",
              "      <td>0</td>\n",
              "      <td>0</td>\n",
              "    </tr>\n",
              "  </tbody>\n",
              "</table>\n",
              "</div>"
            ],
            "text/plain": [
              "      072 BCG  ...  009 Haemophilus influenzae b\n",
              "Ano            ...                              \n",
              "1994       15  ...                             0\n",
              "1995       24  ...                            24\n",
              "1996       26  ...                            26\n",
              "1997       27  ...                            27\n",
              "1998       27  ...                            27\n",
              "1999       27  ...                            27\n",
              "2000       27  ...                            27\n",
              "2001       27  ...                            27\n",
              "2002       27  ...                            27\n",
              "2003       27  ...                            27\n",
              "2004       27  ...                             0\n",
              "2005       27  ...                             0\n",
              "2006       27  ...                             0\n",
              "2007       27  ...                             0\n",
              "2008       27  ...                             0\n",
              "2009       27  ...                             0\n",
              "2010       27  ...                             0\n",
              "2011       27  ...                             0\n",
              "2012       27  ...                             0\n",
              "2013       27  ...                             0\n",
              "2014       27  ...                             0\n",
              "2016       27  ...                             0\n",
              "2017       27  ...                             0\n",
              "2018       27  ...                             0\n",
              "2019       27  ...                             0\n",
              "\n",
              "[25 rows x 26 columns]"
            ]
          },
          "metadata": {
            "tags": []
          },
          "execution_count": 197
        }
      ]
    },
    {
      "cell_type": "markdown",
      "metadata": {
        "id": "lsW1GZzfNEU3"
      },
      "source": [
        "###**Analisando os dados por ano...**"
      ]
    },
    {
      "cell_type": "markdown",
      "metadata": {
        "id": "M_aQwzuFNONE"
      },
      "source": [
        "Link sensacional para quem conhece SQL: [Pandas e SQL](https://pandas.pydata.org/docs/getting_started/comparison/comparison_with_sql.html)"
      ]
    },
    {
      "cell_type": "code",
      "metadata": {
        "colab": {
          "base_uri": "https://localhost:8080/"
        },
        "id": "JfhVi86qOD-C",
        "outputId": "d15a231d-1a7b-4a96-a401-8180bc4d7cbe"
      },
      "source": [
        "vacinas_ano_uf = dataSetSUS.melt(id_vars=[\"Ano\",\"UF\"])\n",
        "vacinas_ano_uf.info()"
      ],
      "execution_count": null,
      "outputs": [
        {
          "output_type": "stream",
          "text": [
            "<class 'pandas.core.frame.DataFrame'>\n",
            "RangeIndex: 16475 entries, 0 to 16474\n",
            "Data columns (total 4 columns):\n",
            " #   Column    Non-Null Count  Dtype \n",
            "---  ------    --------------  ----- \n",
            " 0   Ano       16475 non-null  int64 \n",
            " 1   UF        16475 non-null  object\n",
            " 2   variable  16475 non-null  object\n",
            " 3   value     7244 non-null   object\n",
            "dtypes: int64(1), object(3)\n",
            "memory usage: 515.0+ KB\n"
          ],
          "name": "stdout"
        }
      ]
    },
    {
      "cell_type": "markdown",
      "metadata": {
        "id": "JDk79wL0q_Au"
      },
      "source": [
        "Agora vou agrupar por UFs"
      ]
    },
    {
      "cell_type": "code",
      "metadata": {
        "id": "PTHWgrqHp7dv"
      },
      "source": [
        "lista_uf = dataSetSUS[dataSetSUS[\"Ano\"]==2019][\"UF\"].to_list()"
      ],
      "execution_count": null,
      "outputs": []
    },
    {
      "cell_type": "markdown",
      "metadata": {
        "id": "RyIm1PLQ2xUx"
      },
      "source": [
        "Loop por UFs para agrupar início e fim de vacinação"
      ]
    },
    {
      "cell_type": "code",
      "metadata": {
        "id": "ckzyvzIWxVzT"
      },
      "source": [
        "i = 0\n",
        "while (i<len(lista_uf)):\n",
        "  vacinas_inicio = vacinas_ano_uf[(vacinas_ano_uf[\"value\"] != 0) & (vacinas_ano_uf[\"UF\"] == lista_uf[i]) & (vacinas_ano_uf[\"value\"].notna())].groupby(\"variable\").min(\"Ano\")\n",
        "  vacinas_fim = vacinas_ano_uf[(vacinas_ano_uf[\"value\"] != 0) & (vacinas_ano_uf[\"UF\"] == lista_uf[i]) & (vacinas_ano_uf[\"value\"].notna())].groupby(\"variable\").max(\"Ano\")\n",
        "\n",
        "  vacinas = pd.merge(vacinas_inicio,vacinas_fim, on='variable')\n",
        "  vacinas[\"UF\"] = lista_uf[i]\n",
        "  if i == 0:\n",
        "    vacinas_br = vacinas\n",
        "  else:\n",
        "    vacinas_br = pd.concat([vacinas_br,vacinas])\n",
        "  i = i+1"
      ],
      "execution_count": null,
      "outputs": []
    },
    {
      "cell_type": "code",
      "metadata": {
        "colab": {
          "base_uri": "https://localhost:8080/"
        },
        "id": "A6zPgGBU7d4t",
        "outputId": "597f2095-48ef-4b90-acbb-bd6012bf0cd2"
      },
      "source": [
        "vacinas_br.info()"
      ],
      "execution_count": null,
      "outputs": [
        {
          "output_type": "stream",
          "text": [
            "<class 'pandas.core.frame.DataFrame'>\n",
            "Index: 675 entries, 003 dTpa gestante to 103 Dupla Adulto (dt)\n",
            "Data columns (total 3 columns):\n",
            " #   Column  Non-Null Count  Dtype \n",
            "---  ------  --------------  ----- \n",
            " 0   Ano_x   675 non-null    int64 \n",
            " 1   Ano_y   675 non-null    int64 \n",
            " 2   UF      675 non-null    object\n",
            "dtypes: int64(2), object(1)\n",
            "memory usage: 41.1+ KB\n"
          ],
          "name": "stdout"
        }
      ]
    },
    {
      "cell_type": "markdown",
      "metadata": {
        "id": "qjNk6Sbf6dgc"
      },
      "source": [
        "##Vacina para Sarampo parou no mesmo ano em todo o Brasil: 2003"
      ]
    },
    {
      "cell_type": "markdown",
      "metadata": {
        "id": "d_H0SxFIB73G"
      },
      "source": [
        "Mas ainda há o combate, pois a vacina tríplice D1 protege contra esta e outras doenças."
      ]
    },
    {
      "cell_type": "code",
      "metadata": {
        "id": "Ey3UbmHl14Vb"
      },
      "source": [
        "vacinas_br.loc[\"018 Sarampo\"]"
      ],
      "execution_count": null,
      "outputs": []
    },
    {
      "cell_type": "markdown",
      "metadata": {
        "id": "8of441-v6nuQ"
      },
      "source": [
        "##**Vacinas que são aplicadas desde a década de 90 no Brasil**"
      ]
    },
    {
      "cell_type": "markdown",
      "metadata": {
        "id": "uiJIURgbFnH9"
      },
      "source": [
        "Chacando os índices antes de continuar..."
      ]
    },
    {
      "cell_type": "code",
      "metadata": {
        "colab": {
          "base_uri": "https://localhost:8080/"
        },
        "id": "O4xWkBs39_ce",
        "outputId": "16baa11f-5c15-443f-a264-bfa8d95db22c"
      },
      "source": [
        "vacinas_br.index"
      ],
      "execution_count": null,
      "outputs": [
        {
          "output_type": "execute_result",
          "data": {
            "text/plain": [
              "Index(['003 dTpa gestante', '006 Febre Amarela',\n",
              "       '009 Haemophilus influenzae b', '012 Pneumocócica', '018 Sarampo',\n",
              "       '021 Tríplice Viral  D1', '053 Meningococo C', '061 Rotavírus Humano',\n",
              "       '072 BCG', '073 Hepatite B',\n",
              "       ...\n",
              "       '093 Poliomielite(1º ref)',\n",
              "       '094 Dupla adulto e tríplice acelular gestante',\n",
              "       '095 Tríplice Bacteriana(DTP)(1º ref)', '096 Hepatite A',\n",
              "       '097 Tetra Viral(SRC+VZ)', '098 Tríplice Viral  D2',\n",
              "       '099 Hepatite B  em crianças até 30 dias', '100 Poliomielite 4 anos',\n",
              "       '102 DTP REF (4 e 6 anos)', '103 Dupla Adulto (dt)'],\n",
              "      dtype='object', name='variable', length=675)"
            ]
          },
          "metadata": {
            "tags": []
          },
          "execution_count": 356
        }
      ]
    },
    {
      "cell_type": "markdown",
      "metadata": {
        "id": "bKTqHaDq-38_"
      },
      "source": [
        "A vacina BCG (que significa Bacilo de Calmette e Guérin) foi criada em 1921 por Léon Calmette e Alphonse Guérin, dando origem ao nome. Ela protege contra as formas graves da doença, como a meningite tuberculosa e a tuberculose miliar (disseminada pelo corpo através da corrente sanguínea.\n",
        "> A BCG-ID (intradérmica) deve ser administrada ao nascimento ou o mais precocemente possível. Nos prematuros com menos de 36 semanas, administrar a vacina após 1 mês de vida e 2 kg de peso. Administrar uma dose em crianças menores de cinco anos de idade sem cicatriz vacinal"
      ]
    },
    {
      "cell_type": "code",
      "metadata": {
        "id": "N09UmZGR8nmK"
      },
      "source": [
        "vacinas_br.loc[\"072 BCG\"]"
      ],
      "execution_count": null,
      "outputs": []
    },
    {
      "cell_type": "markdown",
      "metadata": {
        "id": "dF59fGra_GrG"
      },
      "source": [
        "A hepatite B é causada pelo vírus B (chamado também de HBV). Uma vez dentro do organismo humano, o vírus ataca os hepatócitos (células do fígado) e começa a se multiplicar, levando à inflamação do órgão."
      ]
    },
    {
      "cell_type": "code",
      "metadata": {
        "id": "tEZcXdDt8nc-"
      },
      "source": [
        "vacinas_br.loc[\"073 Hepatite B\"]"
      ],
      "execution_count": null,
      "outputs": []
    },
    {
      "cell_type": "markdown",
      "metadata": {
        "id": "wbBCM0Ni_r0v"
      },
      "source": [
        "Mesmo considerada erradicada do Brasil há quase 30 anos, a Poliomielite ainda é uma doença que gera muita preocupação para saúde pública do país.\n",
        "\n",
        "Uma das principais causas dessa preocupação é o fato da doença ser a causadora da paralisia infantil.\n",
        "\n",
        "Por isso, anualmente, é importante ressaltar a importância da vacina contra Poliomielite e os meios de prevenção contra o Poliovírus."
      ]
    },
    {
      "cell_type": "code",
      "metadata": {
        "id": "WOSCkaKU8nMa"
      },
      "source": [
        "vacinas_br.loc[\"074 Poliomielite\"]"
      ],
      "execution_count": null,
      "outputs": []
    },
    {
      "cell_type": "markdown",
      "metadata": {
        "id": "Y2JoJut5AEf9"
      },
      "source": [
        "A febre amarela é uma doença infecciosa febril\n",
        "aguda transmitida por vetores artrópodes e causada\n",
        "por um vírus do gênero Flavivirus, família Flaviviridae.\n",
        "Para viajar a países como Angola, por exemplo, a vacinação é obrigatória.\n",
        ">A doença foi responsável por grande número de\n",
        "mortes entre o século XVIII e o início do século XX, com\n",
        "repetidas epidemias nas regiões tropicais da América\n",
        "do Sul e na África, seguidas por surtos em locais mais\n",
        "distantes como América do Norte, Caribe e Europa.\n",
        "A identificação do Aedes aegypti como transmissor\n",
        "do vírus, em 1900, foi seguida por ações de controle\n",
        "do vetor que resultaram em significativo declínio da\n",
        "doença fora das áreas tropicais endêmicas."
      ]
    },
    {
      "cell_type": "code",
      "metadata": {
        "id": "gPIwkNEr8PwT"
      },
      "source": [
        "vacinas_br.loc[\"006 Febre Amarela\"]"
      ],
      "execution_count": null,
      "outputs": []
    },
    {
      "cell_type": "markdown",
      "metadata": {
        "id": "H0659CobAoOS"
      },
      "source": [
        "A Tríplice Bacteriana (DTP) protege a criança de três doenças: Difteria, tétano e coqueluche."
      ]
    },
    {
      "cell_type": "code",
      "metadata": {
        "id": "AsmWJsIs886_"
      },
      "source": [
        "vacinas_br.loc[\"075 DTP\"]"
      ],
      "execution_count": null,
      "outputs": []
    },
    {
      "cell_type": "markdown",
      "metadata": {
        "id": "tpFFq0qO-KIF"
      },
      "source": [
        "A tríplice viral D1 começou em 1999, mas não parou mais.\n",
        ">Trata-se de vacina atenuada, contendo vírus vivos “enfraquecidos” do sarampo, da rubéola e da caxumba; aminoácidos; albumina humana; sulfato de neomicina; sorbitol e gelatina. Contém também traços de proteína do ovo de galinha usado no processo de fabricação da vacina.\n",
        "\n",
        "No Brasil, uma das vacinas utilizadas na rede pública contém traços de lactoalbumina (proteína do leite de vaca)."
      ]
    },
    {
      "cell_type": "markdown",
      "metadata": {
        "id": "2AYQg5WmA53j"
      },
      "source": [
        "Tríplice porque protege contra Sarampo, caxumba e rubéola."
      ]
    },
    {
      "cell_type": "markdown",
      "metadata": {
        "id": "O51sfglXBzjE"
      },
      "source": [
        "No ano de 2018, o Brasil enfrentou a reintrodução do vírus do sarampo, com a ocorrência de surtos foram confirmados 10.326 casos. Segundo o Ministério da Saúde, até o mês de agosto deste mesmo ano, no estado do Paraná 231,8 mil crianças de um ano a menores de cinco não tinham sido vacinadas, sendo a cobertura vacinal neste período de apenas 60%."
      ]
    },
    {
      "cell_type": "code",
      "metadata": {
        "colab": {
          "base_uri": "https://localhost:8080/",
          "height": 852
        },
        "id": "ZAdrd39e9ypU",
        "outputId": "c4506712-7b9b-4277-8539-196686622961"
      },
      "source": [
        "vacinas_br.loc[\"021 Tríplice Viral  D1\"]"
      ],
      "execution_count": null,
      "outputs": [
        {
          "output_type": "execute_result",
          "data": {
            "text/html": [
              "<div>\n",
              "<style scoped>\n",
              "    .dataframe tbody tr th:only-of-type {\n",
              "        vertical-align: middle;\n",
              "    }\n",
              "\n",
              "    .dataframe tbody tr th {\n",
              "        vertical-align: top;\n",
              "    }\n",
              "\n",
              "    .dataframe thead th {\n",
              "        text-align: right;\n",
              "    }\n",
              "</style>\n",
              "<table border=\"1\" class=\"dataframe\">\n",
              "  <thead>\n",
              "    <tr style=\"text-align: right;\">\n",
              "      <th></th>\n",
              "      <th>Ano_x</th>\n",
              "      <th>Ano_y</th>\n",
              "      <th>UF</th>\n",
              "    </tr>\n",
              "    <tr>\n",
              "      <th>variable</th>\n",
              "      <th></th>\n",
              "      <th></th>\n",
              "      <th></th>\n",
              "    </tr>\n",
              "  </thead>\n",
              "  <tbody>\n",
              "    <tr>\n",
              "      <th>021 Tríplice Viral  D1</th>\n",
              "      <td>1999</td>\n",
              "      <td>2019</td>\n",
              "      <td>Rondônia</td>\n",
              "    </tr>\n",
              "    <tr>\n",
              "      <th>021 Tríplice Viral  D1</th>\n",
              "      <td>1999</td>\n",
              "      <td>2019</td>\n",
              "      <td>Acre</td>\n",
              "    </tr>\n",
              "    <tr>\n",
              "      <th>021 Tríplice Viral  D1</th>\n",
              "      <td>1999</td>\n",
              "      <td>2019</td>\n",
              "      <td>Amazonas</td>\n",
              "    </tr>\n",
              "    <tr>\n",
              "      <th>021 Tríplice Viral  D1</th>\n",
              "      <td>1999</td>\n",
              "      <td>2019</td>\n",
              "      <td>Roraima</td>\n",
              "    </tr>\n",
              "    <tr>\n",
              "      <th>021 Tríplice Viral  D1</th>\n",
              "      <td>1999</td>\n",
              "      <td>2019</td>\n",
              "      <td>Pará</td>\n",
              "    </tr>\n",
              "    <tr>\n",
              "      <th>021 Tríplice Viral  D1</th>\n",
              "      <td>1999</td>\n",
              "      <td>2019</td>\n",
              "      <td>Amapá</td>\n",
              "    </tr>\n",
              "    <tr>\n",
              "      <th>021 Tríplice Viral  D1</th>\n",
              "      <td>1999</td>\n",
              "      <td>2019</td>\n",
              "      <td>Tocantins</td>\n",
              "    </tr>\n",
              "    <tr>\n",
              "      <th>021 Tríplice Viral  D1</th>\n",
              "      <td>1999</td>\n",
              "      <td>2019</td>\n",
              "      <td>Maranhão</td>\n",
              "    </tr>\n",
              "    <tr>\n",
              "      <th>021 Tríplice Viral  D1</th>\n",
              "      <td>1999</td>\n",
              "      <td>2019</td>\n",
              "      <td>Piauí</td>\n",
              "    </tr>\n",
              "    <tr>\n",
              "      <th>021 Tríplice Viral  D1</th>\n",
              "      <td>1999</td>\n",
              "      <td>2019</td>\n",
              "      <td>Ceará</td>\n",
              "    </tr>\n",
              "    <tr>\n",
              "      <th>021 Tríplice Viral  D1</th>\n",
              "      <td>1999</td>\n",
              "      <td>2019</td>\n",
              "      <td>Rio Grande do Norte</td>\n",
              "    </tr>\n",
              "    <tr>\n",
              "      <th>021 Tríplice Viral  D1</th>\n",
              "      <td>1999</td>\n",
              "      <td>2019</td>\n",
              "      <td>Paraíba</td>\n",
              "    </tr>\n",
              "    <tr>\n",
              "      <th>021 Tríplice Viral  D1</th>\n",
              "      <td>1999</td>\n",
              "      <td>2019</td>\n",
              "      <td>Pernambuco</td>\n",
              "    </tr>\n",
              "    <tr>\n",
              "      <th>021 Tríplice Viral  D1</th>\n",
              "      <td>1999</td>\n",
              "      <td>2019</td>\n",
              "      <td>Alagoas</td>\n",
              "    </tr>\n",
              "    <tr>\n",
              "      <th>021 Tríplice Viral  D1</th>\n",
              "      <td>1999</td>\n",
              "      <td>2019</td>\n",
              "      <td>Sergipe</td>\n",
              "    </tr>\n",
              "    <tr>\n",
              "      <th>021 Tríplice Viral  D1</th>\n",
              "      <td>1999</td>\n",
              "      <td>2019</td>\n",
              "      <td>Bahia</td>\n",
              "    </tr>\n",
              "    <tr>\n",
              "      <th>021 Tríplice Viral  D1</th>\n",
              "      <td>1999</td>\n",
              "      <td>2019</td>\n",
              "      <td>Minas Gerais</td>\n",
              "    </tr>\n",
              "    <tr>\n",
              "      <th>021 Tríplice Viral  D1</th>\n",
              "      <td>1999</td>\n",
              "      <td>2019</td>\n",
              "      <td>Espírito Santo</td>\n",
              "    </tr>\n",
              "    <tr>\n",
              "      <th>021 Tríplice Viral  D1</th>\n",
              "      <td>1999</td>\n",
              "      <td>2019</td>\n",
              "      <td>Rio de Janeiro</td>\n",
              "    </tr>\n",
              "    <tr>\n",
              "      <th>021 Tríplice Viral  D1</th>\n",
              "      <td>1999</td>\n",
              "      <td>2019</td>\n",
              "      <td>São Paulo</td>\n",
              "    </tr>\n",
              "    <tr>\n",
              "      <th>021 Tríplice Viral  D1</th>\n",
              "      <td>1999</td>\n",
              "      <td>2019</td>\n",
              "      <td>Paraná</td>\n",
              "    </tr>\n",
              "    <tr>\n",
              "      <th>021 Tríplice Viral  D1</th>\n",
              "      <td>1999</td>\n",
              "      <td>2019</td>\n",
              "      <td>Santa Catarina</td>\n",
              "    </tr>\n",
              "    <tr>\n",
              "      <th>021 Tríplice Viral  D1</th>\n",
              "      <td>1999</td>\n",
              "      <td>2019</td>\n",
              "      <td>Rio Grande do Sul</td>\n",
              "    </tr>\n",
              "    <tr>\n",
              "      <th>021 Tríplice Viral  D1</th>\n",
              "      <td>1999</td>\n",
              "      <td>2019</td>\n",
              "      <td>Mato Grosso do Sul</td>\n",
              "    </tr>\n",
              "    <tr>\n",
              "      <th>021 Tríplice Viral  D1</th>\n",
              "      <td>1999</td>\n",
              "      <td>2019</td>\n",
              "      <td>Mato Grosso</td>\n",
              "    </tr>\n",
              "    <tr>\n",
              "      <th>021 Tríplice Viral  D1</th>\n",
              "      <td>1999</td>\n",
              "      <td>2019</td>\n",
              "      <td>Goiás</td>\n",
              "    </tr>\n",
              "    <tr>\n",
              "      <th>021 Tríplice Viral  D1</th>\n",
              "      <td>1999</td>\n",
              "      <td>2019</td>\n",
              "      <td>Distrito Federal</td>\n",
              "    </tr>\n",
              "  </tbody>\n",
              "</table>\n",
              "</div>"
            ],
            "text/plain": [
              "                        Ano_x  Ano_y                   UF\n",
              "variable                                                 \n",
              "021 Tríplice Viral  D1   1999   2019             Rondônia\n",
              "021 Tríplice Viral  D1   1999   2019                 Acre\n",
              "021 Tríplice Viral  D1   1999   2019             Amazonas\n",
              "021 Tríplice Viral  D1   1999   2019              Roraima\n",
              "021 Tríplice Viral  D1   1999   2019                 Pará\n",
              "021 Tríplice Viral  D1   1999   2019                Amapá\n",
              "021 Tríplice Viral  D1   1999   2019            Tocantins\n",
              "021 Tríplice Viral  D1   1999   2019             Maranhão\n",
              "021 Tríplice Viral  D1   1999   2019                Piauí\n",
              "021 Tríplice Viral  D1   1999   2019                Ceará\n",
              "021 Tríplice Viral  D1   1999   2019  Rio Grande do Norte\n",
              "021 Tríplice Viral  D1   1999   2019              Paraíba\n",
              "021 Tríplice Viral  D1   1999   2019           Pernambuco\n",
              "021 Tríplice Viral  D1   1999   2019              Alagoas\n",
              "021 Tríplice Viral  D1   1999   2019              Sergipe\n",
              "021 Tríplice Viral  D1   1999   2019                Bahia\n",
              "021 Tríplice Viral  D1   1999   2019         Minas Gerais\n",
              "021 Tríplice Viral  D1   1999   2019       Espírito Santo\n",
              "021 Tríplice Viral  D1   1999   2019       Rio de Janeiro\n",
              "021 Tríplice Viral  D1   1999   2019            São Paulo\n",
              "021 Tríplice Viral  D1   1999   2019               Paraná\n",
              "021 Tríplice Viral  D1   1999   2019       Santa Catarina\n",
              "021 Tríplice Viral  D1   1999   2019    Rio Grande do Sul\n",
              "021 Tríplice Viral  D1   1999   2019   Mato Grosso do Sul\n",
              "021 Tríplice Viral  D1   1999   2019          Mato Grosso\n",
              "021 Tríplice Viral  D1   1999   2019                Goiás\n",
              "021 Tríplice Viral  D1   1999   2019     Distrito Federal"
            ]
          },
          "metadata": {
            "tags": []
          },
          "execution_count": 357
        }
      ]
    },
    {
      "cell_type": "markdown",
      "metadata": {
        "id": "zsmOLF_JCW0-"
      },
      "source": [
        "## **Conclusões**"
      ]
    },
    {
      "cell_type": "code",
      "metadata": {
        "id": "Aaz2Ir-8CcFc"
      },
      "source": [
        "1. A vacinação pode não ser perfeita, mas tende a ser amplamente disponível no Brasil.\n",
        "2. Embora a vacina específica contra o sarampo tenha parado de ser distribuída, a tríplice D1 nunca parou. O surto de sarampo em 2018 não foi por falta de vacinação, mas por descuido das pessoas.\n",
        "3. O início dos registros em 1994 contém vacinação em 15 das 27 UFs, mas não parece ser problema de distribuição, mas talvez de dados (não consegui comprovar a hipótese). Isso porque vários dos estados mais populosos, como RJ e SP, estão entre os que não possuem dados.\n",
        "4. Muito difícil criar boas visualizações com gráficos convencionais. Pensei em criar um mapa do país com dados de vacinações ou infográficos, mas não usaria o Seaborn para isso...\n",
        "> Fica para o futuro... confesso que fiquei um pouco frustrado de não achar algo bom para mostrar, por isso mantive o foco na manipulação dos dados.\n",
        "5. Algumas vacinas estão sempre disponíveis, mas não são alvo de campanhas de vacinação, como a da Febre Amarela, com campanha recente, devido a surto, mas disponível desde 1994."
      ],
      "execution_count": null,
      "outputs": []
    }
  ]
}